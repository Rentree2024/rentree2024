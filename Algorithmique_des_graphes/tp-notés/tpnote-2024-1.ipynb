{
 "cells": [
  {
   "cell_type": "markdown",
   "metadata": {},
   "source": [
    "# TP noté L3 Algorithmique des graphes 2023-2024\n",
    "# Durée: 2 heures\n",
    "\n",
    "## Vous disposez uniquement des documents suivants :\n",
    "- les transparents de cours en format pdf\n",
    "- les trois fichiers `dictionnaireadjacence.py`, `dictionnaireadjacencepondere.py`, et `unionfind.py`\n",
    "- un accès à la documentation Python\n",
    "- ce sujet du TP noté sous forme de Notebook Python (extension `.ipynb`)\n",
    "\n",
    "Aucun autre document ou support n'est autorisé.\n",
    "\n",
    "## Mettez tous vos fichiers et ce Notebook Python dans le répertoire EXAM\n",
    "## Remplissez la première cellule avec vos noms et prénoms\n",
    "## Indiquez si vous avez un tiers temps. \n",
    "## Répondez aux questions dans les cellules indiquées. \n",
    "\n",
    "Le code Python devra utiliser les classes `DictionnaireAdjacence` et `DictionnaireAdjacencePondere`. Vos réponses devront fonctionner quel que soit le type des identifiants utilisés pour les sommets.\n",
    "\n",
    "<font color=red>**Attention :**</font> ne modifiez pas les fichiers `dictionnaireadjacence.py` et `dictionnaireadjacencepondere.py`. Ils seront réinitialisés lors de la correction. \n"
   ]
  },
  {
   "cell_type": "code",
   "execution_count": 3,
   "metadata": {},
   "outputs": [],
   "source": [
    "# Cadre pour la notation :\n",
    "Note = \"\"\n",
    "Exercice_1 = \"\"\n",
    "Exercice_2 = \"\"\n",
    "Exerice_3 = \"\"\n",
    "Exerice_4 = \"\""
   ]
  },
  {
   "cell_type": "raw",
   "metadata": {
    "coordonnées": true
   },
   "source": [
    "Nom = \n",
    "Prenom = \n",
    "Tiers temps (oui/non) ="
   ]
  },
  {
   "cell_type": "markdown",
   "metadata": {},
   "source": [
    "## Exercice 1: Parcours\n",
    "\n",
    "1. Écrivez une fonction prenant en paramètre un graphe non orienté et un sommet de ce graphe, et renvoyant la liste des sommets dans l'ordre où le parcours en profondeur les traite au départ de ce sommet. "
   ]
  },
  {
   "cell_type": "code",
   "execution_count": 3,
   "metadata": {
    "réponse": true,
    "scrolled": true,
    "slideshow": {
     "slide_type": "-"
    }
   },
   "outputs": [
    {
     "data": {
      "text/plain": [
       "['a', 'b', 'e', 'h', 'f', 'c', 'g', 'd', 'i']"
      ]
     },
     "execution_count": 3,
     "metadata": {},
     "output_type": "execute_result"
    }
   ],
   "source": [
    "# écrivez votre code ici  -----------------------------------------------------\n",
    "\n",
    "# tests -----------------------------------------------------------------------\n",
    "from dictionnaireadjacence import DictionnaireAdjacence as Graphe\n",
    "\n",
    "# l'exemple des slides du cours\n",
    "G = Graphe()\n",
    "G.ajouter_aretes([('a', 'b'), ('a', 'd'), ('a', 'g'), ('b', 'e'), ('b', 'g'), ('c', 'f'), ('d', 'g'), ('d', 'i'), ('e', 'h'), ('f', 'g'), ('f', 'h')])\n",
    "parcours_profondeur(G, 'a')  # affichage attendu: ['a', 'b', 'e', 'h', 'f', 'c', 'g', 'd', 'i']"
   ]
  },
  {
   "cell_type": "markdown",
   "metadata": {},
   "source": [
    "2. Écrivez une fonction prenant en paramètre un graphe non orienté et renvoyant le nombre de composantes connexes de ce graphe."
   ]
  },
  {
   "cell_type": "code",
   "execution_count": 8,
   "metadata": {
    "réponse": true
   },
   "outputs": [
    {
     "data": {
      "text/plain": [
       "1"
      ]
     },
     "execution_count": 8,
     "metadata": {},
     "output_type": "execute_result"
    }
   ],
   "source": [
    "# écrivez votre code ici  -----------------------------------------------------\n",
    "            \n",
    "# tests -----------------------------------------------------------------------\n",
    "from dictionnaireadjacence import DictionnaireAdjacence as Graphe\n",
    "\n",
    "# l'exemple des slides du cours\n",
    "G = Graphe()\n",
    "G.ajouter_aretes([('a', 'b'), ('a', 'd'), ('a', 'g'), ('b', 'e'), ('b', 'g'), ('c', 'f'), ('d', 'g'), ('d', 'i'), ('e', 'h'), ('f', 'g'), ('f', 'h')])\n",
    "nombre_composantes_connexes(G)  # résultat attendu: 1"
   ]
  },
  {
   "cell_type": "markdown",
   "metadata": {},
   "source": [
    "3. Un **pont** est une arête dont la suppression augmente le nombre de composantes connexes. Écrivez une fonction prenant en paramètres un graphe non orienté et une arête de ce graphe, et renvoyant `True` si cette arête est un pont, et `False` sinon. Donnez et justifiez la complexité de votre fonction."
   ]
  },
  {
   "cell_type": "code",
   "execution_count": 5,
   "metadata": {
    "réponse": true
   },
   "outputs": [
    {
     "name": "stdout",
     "output_type": "stream",
     "text": [
      "Test des arêtes de G:\n",
      "('a', 'b') ?= pont: False\n",
      "('a', 'd') ?= pont: False\n",
      "('a', 'g') ?= pont: False\n",
      "('b', 'e') ?= pont: False\n",
      "('b', 'g') ?= pont: False\n",
      "('c', 'f') ?= pont: True\n",
      "('d', 'g') ?= pont: False\n",
      "('d', 'i') ?= pont: True\n",
      "('e', 'h') ?= pont: False\n",
      "('f', 'g') ?= pont: False\n",
      "('f', 'h') ?= pont: False\n"
     ]
    }
   ],
   "source": [
    "# écrivez votre code ici  -----------------------------------------------------\n",
    "def est_pont(graphe, arete):\n",
    "    u, v = arete\n",
    "    \n",
    "    \n",
    "# tests -----------------------------------------------------------------------\n",
    "from dictionnaireadjacence import DictionnaireAdjacence as Graphe\n",
    "\n",
    "# l'exemple des slides du cours\n",
    "G = Graphe()\n",
    "G.ajouter_aretes([('a', 'b'), ('a', 'd'), ('a', 'g'), ('b', 'e'), ('b', 'g'), ('c', 'f'), ('d', 'g'), ('d', 'i'), ('e', 'h'), ('f', 'g'), ('f', 'h')])\n",
    "\n",
    "print(\"Test des arêtes de G:\")  # résultat attendu: seules {'c', 'f'} et {'d', 'i'} sont des ponts\n",
    "for u, v in sorted(G.aretes()):\n",
    "    print(f'{(u, v)} ?= pont: {est_pont(G, (u, v))}')"
   ]
  },
  {
   "cell_type": "markdown",
   "metadata": {},
   "source": [
    "4. Écrivez une fonction prenant en paramètre un graphe non orienté et renvoyant `True` si ce graphe est un arbre, et `False` sinon.    "
   ]
  },
  {
   "cell_type": "code",
   "execution_count": 6,
   "metadata": {
    "réponse": true
   },
   "outputs": [
    {
     "data": {
      "text/plain": [
       "False"
      ]
     },
     "execution_count": 6,
     "metadata": {},
     "output_type": "execute_result"
    }
   ],
   "source": [
    "# écrivez votre code ici  -----------------------------------------------------\n",
    "\n",
    "# tests -----------------------------------------------------------------------\n",
    "from dictionnaireadjacence import DictionnaireAdjacence as Graphe\n",
    "\n",
    "# l'exemple des slides du cours\n",
    "G = Graphe()\n",
    "G.ajouter_aretes([('a', 'b'), ('a', 'd'), ('a', 'g'), ('b', 'e'), ('b', 'g'), ('c', 'f'), ('d', 'g'), ('d', 'i'), ('e', 'h'), ('f', 'g'), ('f', 'h')])\n",
    "est_arbre(G)  # résultat attendu: False"
   ]
  },
  {
   "cell_type": "markdown",
   "metadata": {},
   "source": [
    "## Exercice 2: Triangles\n",
    "\n",
    "1. Écrivez une fonction en $O(|V|^3)$ renvoyant un cycle de longueur 3 dans un graphe non orienté donné sous la forme d'un triplet de sommets. Si le graphe ne contient pas de tel cycle, la fonction renverra `None`."
   ]
  },
  {
   "cell_type": "code",
   "execution_count": 7,
   "metadata": {
    "réponse": true
   },
   "outputs": [
    {
     "data": {
      "text/plain": [
       "('a', 'b', 'g')"
      ]
     },
     "execution_count": 7,
     "metadata": {},
     "output_type": "execute_result"
    }
   ],
   "source": [
    "# écrivez votre code ici  -----------------------------------------------------\n",
    "        \n",
    "# tests -----------------------------------------------------------------------\n",
    "from dictionnaireadjacence import DictionnaireAdjacence as Graphe\n",
    "\n",
    "# l'exemple des slides du cours\n",
    "G = Graphe()\n",
    "G.ajouter_aretes([('a', 'b'), ('a', 'd'), ('a', 'g'), ('b', 'e'), ('b', 'g'), ('c', 'f'), ('d', 'g'), ('d', 'i'), ('e', 'h'), ('f', 'g'), ('f', 'h')])\n",
    "triangles_1(G)  # résultats valides: ('a', 'b', 'g') ou ('a', 'd', 'g') (dans n'importe quel ordre)"
   ]
  },
  {
   "cell_type": "markdown",
   "metadata": {},
   "source": [
    "2. Écrivez une autre fonction effectuant la même tâche, mais cette fois-ci avec une complexité en $O(|V||E|)$.    "
   ]
  },
  {
   "cell_type": "code",
   "execution_count": 8,
   "metadata": {
    "réponse": true
   },
   "outputs": [
    {
     "data": {
      "text/plain": [
       "('a', 'b', 'g')"
      ]
     },
     "execution_count": 8,
     "metadata": {},
     "output_type": "execute_result"
    }
   ],
   "source": [
    "# écrivez votre code ici  -----------------------------------------------------\n",
    "        \n",
    "# tests -----------------------------------------------------------------------\n",
    "from dictionnaireadjacence import DictionnaireAdjacence as Graphe\n",
    "\n",
    "# l'exemple des slides du cours\n",
    "G = Graphe()\n",
    "G.ajouter_aretes([('a', 'b'), ('a', 'd'), ('a', 'g'), ('b', 'e'), ('b', 'g'), ('c', 'f'), ('d', 'g'), ('d', 'i'), ('e', 'h'), ('f', 'g'), ('f', 'h')])\n",
    "triangles_2(G)  # résultats valides: ('a', 'b', 'g') ou ('a', 'd', 'g') (dans n'importe quel ordre)"
   ]
  },
  {
   "cell_type": "markdown",
   "metadata": {},
   "source": [
    "\n",
    "## Exercice 3: FCPM\n",
    "\n",
    "1. Écrivez une fonction implémentant l'algorithme de Kruskal. Elle recevra en paramètre un graphe non orienté pondéré, pas nécessairement connexe, et renverra une forêt du même type."
   ]
  },
  {
   "cell_type": "code",
   "execution_count": 9,
   "metadata": {
    "réponse": true
   },
   "outputs": [
    {
     "data": {
      "text/plain": [
       "[('a', 'b', 1), ('a', 'c', 2), ('b', 'd', 3)]"
      ]
     },
     "execution_count": 9,
     "metadata": {},
     "output_type": "execute_result"
    }
   ],
   "source": [
    "# écrivez votre code ici  -----------------------------------------------------\n",
    "\n",
    "# tests -----------------------------------------------------------------------\n",
    "from dictionnaireadjacencepondere import DictionnaireAdjacencePondere as Graphe\n",
    "\n",
    "# l'exemple des slides du cours\n",
    "G = Graphe()\n",
    "G.ajouter_aretes([('a', 'b', 1), ('a', 'c', 2), ('b', 'd', 3), ('b', 'c', 4), ('c', 'd', 5)])\n",
    "sorted(kruskal(G).aretes())  # résultat attendu: [('a', 'b', 1), ('a', 'c', 2), ('b', 'd', 3)]"
   ]
  },
  {
   "cell_type": "markdown",
   "metadata": {},
   "source": [
    "2. Écrivez une seconde fonction implémentant une version améliorée de l'algorithme de Kruskal, qui devra s'exécuter en $O(|E|+$ poids_max$)$ dans le cas où les poids des arêtes sont des entiers positifs bornés par une certaine constante `poids_max` (inconnue *a priori*)."
   ]
  },
  {
   "cell_type": "code",
   "execution_count": 10,
   "metadata": {
    "réponse": true
   },
   "outputs": [
    {
     "data": {
      "text/plain": [
       "[('a', 'b', 1), ('a', 'c', 2), ('b', 'd', 3)]"
      ]
     },
     "execution_count": 10,
     "metadata": {},
     "output_type": "execute_result"
    }
   ],
   "source": [
    "# écrivez votre code ici  -----------------------------------------------------\n",
    "def fonction(graphe):\n",
    "    resultat = type(graphe)()\n",
    "    return resultat\n",
    "\n",
    "\n",
    "# tests -----------------------------------------------------------------------\n",
    "from dictionnaireadjacencepondere import DictionnaireAdjacencePondere as Graphe\n",
    "\n",
    "# l'exemple des slides du cours\n",
    "G = Graphe()\n",
    "G.ajouter_aretes([('a', 'b', 1), ('a', 'c', 2), ('b', 'd', 3), ('b', 'c', 4), ('c', 'd', 5)])\n",
    "sorted(kruskal_poids_naturels(G).aretes())  # résultat attendu: [('a', 'b', 1), ('a', 'c', 2), ('b', 'd', 3)]"
   ]
  }
 ],
 "metadata": {
  "kernelspec": {
   "display_name": "Python 3 (ipykernel)",
   "language": "python",
   "name": "python3"
  },
  "language_info": {
   "codemirror_mode": {
    "name": "ipython",
    "version": 3
   },
   "file_extension": ".py",
   "mimetype": "text/x-python",
   "name": "python",
   "nbconvert_exporter": "python",
   "pygments_lexer": "ipython3",
   "version": "3.11.2"
  }
 },
 "nbformat": 4,
 "nbformat_minor": 4
}
