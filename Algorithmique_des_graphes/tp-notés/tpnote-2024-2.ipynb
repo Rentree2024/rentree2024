{
 "cells": [
  {
   "cell_type": "markdown",
   "metadata": {},
   "source": [
    "# TP noté 2 L3 Algorithmique des graphes 2023-2024\n",
    "# Durée: 2 heures\n",
    "\n",
    "## Vous disposez uniquement des documents suivants :\n",
    "- les transparents de cours en format pdf\n",
    "- les fichiers `dictionnaireadjacenceoriente.py` et `dictionnaireadjacenceorientepondere.py`\n",
    "- un accès à la documentation Python\n",
    "- ce sujet du TP noté sous forme de Notebook Python (extension `.ipynb`)\n",
    "\n",
    "Aucun autre document ou support n'est autorisé.\n",
    "\n",
    "## Mettez tous vos fichiers et ce Notebook Python dans le répertoire EXAM\n",
    "## Remplissez la première cellule avec vos noms et prénoms\n",
    "## Indiquez si vous avez un tiers temps. \n",
    "## Répondez aux questions dans les cellules indiquées. \n",
    "\n",
    "Le code Python devra utiliser les classes `DictionnaireAdjacenceOrientePondere` et `DictionnaireAdjacencePondere`. Vos réponses devront fonctionner quel que soit le type des identifiants utilisés pour les sommets.\n",
    "\n",
    "<font color=red>**Attention :**</font> ne modifiez pas les fichiers fournis. Ils seront réinitialisés lors de la correction. \n"
   ]
  },
  {
   "cell_type": "raw",
   "metadata": {
    "coordonnées": true
   },
   "source": [
    "Nom = nom_test\n",
    "Prenom = prenom_test\n",
    "Tiers temps (oui/non) = "
   ]
  },
  {
   "cell_type": "markdown",
   "metadata": {},
   "source": [
    "## Exercice 1: Flots\n",
    "\n",
    "1. Écrivez une fonction prenant en paramètres un graphe orienté pondéré et un flot, et renvoyant le réseau résiduel associé. Le flot est donné sous la forme d'un dictionnaire associant à chaque arc une valeur, et satisfait les propriétés d'un flot que vous ne devez donc pas vérifier."
   ]
  },
  {
   "cell_type": "code",
   "execution_count": 4,
   "metadata": {},
   "outputs": [
    {
     "name": "stdout",
     "output_type": "stream",
     "text": [
      "[('a', 'b', 1), ('a', 's', 11), ('b', 'a', 3), ('b', 'c', 4), ('b', 'd', 3), ('b', 's', 8), ('c', 'a', 12), ('c', 'b', 5), ('c', 'd', 7), ('c', 't', 5), ('d', 'b', 11), ('s', 'a', 5), ('s', 'b', 5), ('t', 'c', 15), ('t', 'd', 4)]\n"
     ]
    }
   ],
   "source": [
    "\n",
    "\n",
    "# tests -----------------------------------------------------------------------\n",
    "from dictionnaireadjacenceorientepondere import DictionnaireAdjacenceOrientePondere as Graphe\n",
    "\n",
    "# 1er exemple du cours, où 's' est la source et 't' le puits\n",
    "G = Graphe()\n",
    "G.ajouter_arcs([\n",
    "    ('s', 'a', 16), ('s', 'b', 13), ('a', 'c', 12), ('b', 'a', 4 ), \n",
    "    ('b', 'd', 14), ('c', 'b', 9 ), ('c', 't', 20), ('d', 'c', 7 ), \n",
    "    ('d', 't', 4 )\n",
    "])\n",
    "flot = {\n",
    "    ('s', 'a'): 11, ('s', 'b'): 8, ('a', 'c'): 12, ('b', 'a'): 1, \n",
    "    ('b', 'd'): 11, ('c', 'b'): 4, ('c', 't'): 15, ('d', 'c'): 7, \n",
    "    ('d', 't'): 4 \n",
    "}\n",
    "resultat = residuel(G, flot)\n",
    "print(sorted(resultat.arcs()))"
   ]
  },
  {
   "cell_type": "markdown",
   "metadata": {},
   "source": [
    "Résultat attendu:\n",
    "[('a', 'b', 1),\n",
    " ('a', 's', 11),\n",
    " ('b', 'a', 3),\n",
    " ('b', 'c', 4),\n",
    " ('b', 'd', 3),\n",
    " ('b', 's', 8),\n",
    " ('c', 'a', 12),\n",
    " ('c', 'b', 5),\n",
    " ('c', 'd', 7),\n",
    " ('c', 't', 5),\n",
    " ('d', 'b', 11),\n",
    " ('s', 'a', 5),\n",
    " ('s', 'b', 5),\n",
    " ('t', 'c', 15),\n",
    " ('t', 'd', 4)]"
   ]
  },
  {
   "cell_type": "markdown",
   "metadata": {},
   "source": [
    "2. Écrivez une fonction prenant en paramètres un graphe orienté pondéré et un flot maximum, et renvoyant une coupe minimum pour le graphe donné. Le flot est donné sous la forme d'un dictionnaire associant à chaque arc une valeur, et satisfait les propriétés d'un flot que vous ne devez donc pas vérifier. La coupe sera exprimée sous la forme d'un itérable contenant deux itérables de sommets. Votre fonction doit être en $O(|V|+|A|)$. Vous ne devez pas vérifier que le flot est bien maximum."
   ]
  },
  {
   "cell_type": "code",
   "execution_count": 5,
   "metadata": {
    "réponse": true,
    "slideshow": {
     "slide_type": "-"
    }
   },
   "outputs": [
    {
     "name": "stdout",
     "output_type": "stream",
     "text": [
      "[['a', 'b', 'd', 's'], ['c', 't']]\n",
      "True\n"
     ]
    }
   ],
   "source": [
    "\n",
    "\n",
    "# tests -----------------------------------------------------------------------\n",
    "from dictionnaireadjacenceorientepondere import DictionnaireAdjacenceOrientePondere as Graphe\n",
    "\n",
    "# 1er exemple du cours\n",
    "G = Graphe()\n",
    "G.ajouter_arcs([\n",
    "    ('s', 'a', 16), ('s', 'b', 13), ('a', 'c', 12), ('b', 'a', 4 ), \n",
    "    ('b', 'd', 14), ('c', 'b', 9 ), ('c', 't', 20), ('d', 'c', 7 ), \n",
    "    ('d', 't', 4 )\n",
    "])\n",
    "flot_max = {\n",
    "    ('s', 'a'): 12, ('s', 'b'): 11, ('a', 'c'): 12, ('b', 'a'): 0, \n",
    "    ('b', 'd'): 11, ('c', 'b'): 0, ('c', 't'): 19, ('d', 'c'): 7, \n",
    "    ('d', 't'): 4 \n",
    "}\n",
    "coupe = coupe_minimum(G, flot_max, 's', 't')\n",
    "print(sorted(map(sorted, coupe)))  # solution possible: [['a', 'b', 'd', 's'], ['c', 't']]\n",
    "print(sum(G.poids_arc(u, v) for u in coupe[0] for v in coupe[1] if G.contient_arc(u, v)) == 23) # résultat attendu: True"
   ]
  },
  {
   "cell_type": "markdown",
   "metadata": {},
   "source": [
    "3. Écrivez une fonction prenant un flot en paramètre, ainsi que la source, et renvoyant sa valeur. Le flot est au même format que pour les questions précédentes, et il ne faut donc pas vérifier sa validité."
   ]
  },
  {
   "cell_type": "code",
   "execution_count": 6,
   "metadata": {},
   "outputs": [
    {
     "name": "stdout",
     "output_type": "stream",
     "text": [
      "23\n"
     ]
    }
   ],
   "source": [
    "\n",
    "\n",
    "# tests -----------------------------------------------------------------------\n",
    "flot = {\n",
    "    ('s', 'a'): 12, ('s', 'b'): 11, ('a', 'c'): 12, ('b', 'a'): 0, \n",
    "    ('b', 'd'): 11, ('c', 'b'): 0, ('c', 't'): 19, ('d', 'c'): 7, \n",
    "    ('d', 't'): 4 \n",
    "}\n",
    "print(valeur(flot, 's'))  # résultat attendu: 23"
   ]
  },
  {
   "cell_type": "markdown",
   "metadata": {},
   "source": [
    "4. Écrivez une fonction qui renvoie la capacité d'une coupe pour le réseau donné. La coupe est donnée sous la forme d'un couple d'ensembles, dont les éléments sont les sommets. Votre algorithme doit être en $O(|V|+|A|)$."
   ]
  },
  {
   "cell_type": "code",
   "execution_count": 7,
   "metadata": {},
   "outputs": [
    {
     "name": "stdout",
     "output_type": "stream",
     "text": [
      "26\n"
     ]
    }
   ],
   "source": [
    "\n",
    "\n",
    "# tests -----------------------------------------------------------------------\n",
    "from dictionnaireadjacenceorientepondere import DictionnaireAdjacenceOrientePondere as Graphe\n",
    "\n",
    "# 1er exemple du cours\n",
    "G = Graphe()\n",
    "G.ajouter_arcs([\n",
    "    ('s', 'a', 16), ('s', 'b', 13), ('a', 'c', 12), ('b', 'a', 4 ), \n",
    "    ('b', 'd', 14), ('c', 'b', 9 ), ('c', 't', 20), ('d', 'c', 7 ), \n",
    "    ('d', 't', 4 )\n",
    "])\n",
    "coupe = [{'s', 'a', 'b'}, {'c', 'd', 't'}]\n",
    "print(capacite(G, coupe))  # résultat attendu: 26"
   ]
  },
  {
   "cell_type": "markdown",
   "metadata": {},
   "source": [
    "5. Écrivez une fonction permettant de vérifier qu'une bipartition donnée est bien une coupe minimum. Pour ce faire, vous disposez du réseau de départ et d'un flot supposé maximum. Il faut donc vérifier que l'ensemble donné est bien une bipartition, qu'il s'agit d'une coupe, et que sa capacité est minimum. Votre fonction doit être en $O(|V|+|A|)$."
   ]
  },
  {
   "cell_type": "code",
   "execution_count": 11,
   "metadata": {
    "réponse": true
   },
   "outputs": [
    {
     "name": "stdout",
     "output_type": "stream",
     "text": [
      "True\n",
      "False\n",
      "False\n"
     ]
    }
   ],
   "source": [
    "\n",
    "\n",
    "# tests -----------------------------------------------------------------------\n",
    "from dictionnaireadjacenceorientepondere import DictionnaireAdjacenceOrientePondere as Graphe\n",
    "\n",
    "# 1er exemple du cours\n",
    "G = Graphe()\n",
    "G.ajouter_arcs([\n",
    "    ('s', 'a', 16), ('s', 'b', 13), ('a', 'c', 12), ('b', 'a', 4 ), \n",
    "    ('b', 'd', 14), ('c', 'b', 9 ), ('c', 't', 20), ('d', 'c', 7 ), \n",
    "    ('d', 't', 4 )\n",
    "])\n",
    "flot_max = {\n",
    "    ('s', 'a'): 12, ('s', 'b'): 11, ('a', 'c'): 12, ('b', 'a'): 0, \n",
    "    ('b', 'd'): 11, ('c', 'b'): 0, ('c', 't'): 19, ('d', 'c'): 7, \n",
    "    ('d', 't'): 4 \n",
    "}\n",
    "coupe = coupe_minimum(G, flot_max, 's', 't')\n",
    "print(est_coupe_minimale(coupe, G, 's', 't', flot_max))  # résultat attendu: True\n",
    "print(est_coupe_minimale([{'a'}, {'b'}], G, 's', 't', flot_max))  # résultat attendu: False (pas une coupe)\n",
    "print(est_coupe_minimale([{'s', 'a'}, {'b', 'c', 'd', 't'}], G, 's', 't', flot_max))  # résultat attendu: False (coupe pas minimale)"
   ]
  },
  {
   "cell_type": "markdown",
   "metadata": {},
   "source": [
    "## Exercice 2: composantes fortement connexes\n",
    "\n",
    "1. Écrivez une fonction renvoyant les sommets d'un graphe orienté non pondéré dans l'ordre où le parcours en profondeur **termine** leur exploration. Votre fonction doit être en $O(|V|+|A|)$.\n"
   ]
  },
  {
   "cell_type": "code",
   "execution_count": 3,
   "metadata": {},
   "outputs": [
    {
     "name": "stdout",
     "output_type": "stream",
     "text": [
      "['2', '1', '0', '4', '3', '7', '6', '5']\n"
     ]
    }
   ],
   "source": [
    "\n",
    "\n",
    "# tests -----------------------------------------------------------------------\n",
    "from dictionnaireadjacenceoriente import DictionnaireAdjacenceOriente as Graphe\n",
    "\n",
    "G = Graphe()\n",
    "G.ajouter_arcs([\"01\", \"02\", \"12\", \"34\", \"56\", \"57\"])\n",
    "print(parcours_profondeur_date(G))  # résultat attendu: ['2', '1', '0', '4', '3', '7', '6', '5']\n"
   ]
  },
  {
   "cell_type": "markdown",
   "metadata": {},
   "source": [
    "2. Écrivez une fonction renvoyant un itérable contenant les composantes fortement connexes d'un graphe orienté. Chaque composante est représentée par les sommets qu'elle contient. La fonction renverra donc un itérable d'itérables. Votre fonction doit être en $O(|V|+|A|)$.\n"
   ]
  },
  {
   "cell_type": "code",
   "execution_count": 6,
   "metadata": {},
   "outputs": [
    {
     "data": {
      "text/plain": [
       "[['0', '1', '4'], ['2', '3'], ['5', '6'], ['7']]"
      ]
     },
     "execution_count": 6,
     "metadata": {},
     "output_type": "execute_result"
    }
   ],
   "source": [
    "\n",
    "\n",
    "# tests -----------------------------------------------------------------------\n",
    "from dictionnaireadjacenceoriente import DictionnaireAdjacenceOriente as Graphe\n",
    "\n",
    "# exemple du cours\n",
    "G = Graphe()\n",
    "G.ajouter_arcs([\"01\", \"12\", \"14\", \"15\", \"23\", \"26\", \"32\", \"37\", \"40\", \"45\", \"56\", \"65\", \"67\"])\n",
    "print(sorted(map(sorted, cfc(G)))) # résultat attendu: [['0', '1', '4'], ['2', '3'], ['5', '6'], ['7']]"
   ]
  },
  {
   "cell_type": "markdown",
   "metadata": {},
   "source": [
    "3. Écrivez une fonction prenant en paramètres un graphe orienté $G$ et ses composantes fortement connexes et renvoyant le graphe $H$ des composantes fortement connexes. Chaque composante fortement connexe de $G$ sera représentée dans $H$ par le sommet le plus petit qu'elle contient. Votre fonction doit être en $O(|V|+|A|)$."
   ]
  },
  {
   "cell_type": "code",
   "execution_count": 14,
   "metadata": {},
   "outputs": [
    {
     "name": "stdout",
     "output_type": "stream",
     "text": [
      "['0', '2', '5', '7']\n",
      "[('0', '2'), ('0', '5'), ('2', '5'), ('2', '7'), ('5', '7')]\n"
     ]
    }
   ],
   "source": [
    "\n",
    "\n",
    "# tests -----------------------------------------------------------------------\n",
    "from dictionnaireadjacenceoriente import DictionnaireAdjacenceOriente as Graphe\n",
    "\n",
    "# exemple du cours\n",
    "G = Graphe()\n",
    "G.ajouter_arcs([\"01\", \"12\", \"14\", \"15\", \"23\", \"26\", \"32\", \"37\", \"40\", \"45\", \"56\", \"65\", \"67\"])\n",
    "H = graphe_cfc(G, cfc(G))\n",
    "print(sorted(H.sommets()))  # résultat attendu: ['0', '2', '5', '7']\n",
    "print(sorted(H.arcs()))  # résultat attendu: [('0', '2'), ('0', '5'), ('2', '5'), ('2', '7'), ('5', '7')]"
   ]
  },
  {
   "cell_type": "markdown",
   "metadata": {},
   "source": [
    "## Exercice 3: plus courts chemins\n",
    "\n",
    "1. Écrivez une fonction prenant en paramètres un graphe orienté pondéré dont les poids de tous les arcs sont 1, et un sommet de départ, et renvoyant l'arbre des plus courts chemins issus de ce sommet sous la forme d'un graphe orienté pondéré du même type que l'entrée. Votre fonction doit être en $O(|V|+|A|)$."
   ]
  },
  {
   "cell_type": "code",
   "execution_count": 18,
   "metadata": {},
   "outputs": [
    {
     "name": "stdout",
     "output_type": "stream",
     "text": [
      "[(0, 1, 1), (0, 2, 1)]\n",
      "[]\n"
     ]
    }
   ],
   "source": [
    "\n",
    "\n",
    "# tests -----------------------------------------------------------------------\n",
    "from dictionnaireadjacenceorientepondere import DictionnaireAdjacenceOrientePondere as Graphe\n",
    "\n",
    "G = Graphe()\n",
    "G.ajouter_arcs([\n",
    "    (0, 1, 1), (0, 2, 1), (1, 2, 1)\n",
    "])\n",
    "print(sorted(arbre_pcc(G, 0).arcs()))  # résultat attendu: [(0, 1, 1), (0, 2, 1)]\n",
    "print(sorted(arbre_pcc(G, 2).arcs()))  # résultat attendu: []"
   ]
  },
  {
   "cell_type": "markdown",
   "metadata": {},
   "source": [
    "2. Écrivez une fonction prenant en paramètres un graphe orienté pondéré dont les poids de tous les arcs sont 1 ou à 2, et un sommet de départ, et renvoyant l'arbre des plus courts chemins issus de ce sommet sous la forme d'un graphe orienté pondéré du même type que l'entrée. Votre fonction doit être en $O(|V|+|A|)$."
   ]
  },
  {
   "cell_type": "code",
   "execution_count": 33,
   "metadata": {},
   "outputs": [
    {
     "name": "stdout",
     "output_type": "stream",
     "text": [
      "[(0, 1, 1), (1, 2, 1), (1, 3, 1)]\n",
      "[]\n"
     ]
    }
   ],
   "source": [
    "\n",
    "\n",
    "# tests -----------------------------------------------------------------------\n",
    "from dictionnaireadjacenceorientepondere import DictionnaireAdjacenceOrientePondere as Graphe\n",
    "\n",
    "G = Graphe()\n",
    "G.ajouter_arcs([\n",
    "    (0, 1, 1), (0, 2, 2), (1, 2, 1), (1, 3, 1)\n",
    "])\n",
    "print(sorted(arbre_pcc_1_ou_2(G, 0).arcs()))  # résultat attendu: [(0, 1, 1), (1, 2, 1), (1, 3, 1)]\n",
    "print(sorted(arbre_pcc_1_ou_2(G, 2).arcs()))  # résultat attendu: []"
   ]
  }
 ],
 "metadata": {
  "celltoolbar": "Edit Metadata",
  "kernelspec": {
   "display_name": "Python 3 (ipykernel)",
   "language": "python",
   "name": "python3"
  },
  "language_info": {
   "codemirror_mode": {
    "name": "ipython",
    "version": 3
   },
   "file_extension": ".py",
   "mimetype": "text/x-python",
   "name": "python",
   "nbconvert_exporter": "python",
   "pygments_lexer": "ipython3",
   "version": "3.11.2"
  }
 },
 "nbformat": 4,
 "nbformat_minor": 4
}
