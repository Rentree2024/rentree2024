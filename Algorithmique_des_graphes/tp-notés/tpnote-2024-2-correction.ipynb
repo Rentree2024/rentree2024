{
 "cells": [
  {
   "cell_type": "markdown",
   "metadata": {},
   "source": [
    "# TP noté 2 L3 Algorithmique des graphes 2023-2024\n",
    "# Durée: 2 heures\n",
    "\n",
    "## Vous disposez uniquement des documents suivants :\n",
    "- les transparents de cours en format pdf\n",
    "- les fichiers `dictionnaireadjacenceoriente.py` et `dictionnaireadjacenceorientepondere.py`\n",
    "- un accès à la documentation Python\n",
    "- ce sujet du TP noté sous forme de Notebook Python (extension `.ipynb`)\n",
    "\n",
    "Aucun autre document ou support n'est autorisé.\n",
    "\n",
    "## Mettez tous vos fichiers et ce Notebook Python dans le répertoire EXAM\n",
    "## Remplissez la première cellule avec vos noms et prénoms\n",
    "## Indiquez si vous avez un tiers temps. \n",
    "## Répondez aux questions dans les cellules indiquées. \n",
    "\n",
    "Le code Python devra utiliser les classes `DictionnaireAdjacenceOrientePondere` et `DictionnaireAdjacencePondere`. Vos réponses devront fonctionner quel que soit le type des identifiants utilisés pour les sommets.\n",
    "\n",
    "<font color=red>**Attention :**</font> ne modifiez pas les fichiers fournis. Ils seront réinitialisés lors de la correction. \n"
   ]
  },
  {
   "cell_type": "raw",
   "metadata": {
    "coordonnées": true
   },
   "source": [
    "Nom = nom_test\n",
    "Prenom = prenom_test\n",
    "Tiers temps (oui/non) = "
   ]
  },
  {
   "cell_type": "markdown",
   "metadata": {},
   "source": [
    "## Exercice 1: Flots\n",
    "\n",
    "1. Écrivez une fonction prenant en paramètres un graphe orienté pondéré et un flot, et renvoyant le réseau résiduel associé. Le flot est donné sous la forme d'un dictionnaire associant à chaque arc une valeur, et satisfait les propriétés d'un flot que vous ne devez donc pas vérifier."
   ]
  },
  {
   "cell_type": "code",
   "execution_count": 4,
   "metadata": {},
   "outputs": [
    {
     "name": "stdout",
     "output_type": "stream",
     "text": [
      "[('a', 'b', 1), ('a', 's', 11), ('b', 'a', 3), ('b', 'c', 4), ('b', 'd', 3), ('b', 's', 8), ('c', 'a', 12), ('c', 'b', 5), ('c', 'd', 7), ('c', 't', 5), ('d', 'b', 11), ('s', 'a', 5), ('s', 'b', 5), ('t', 'c', 15), ('t', 'd', 4)]\n"
     ]
    }
   ],
   "source": [
    "# corrigé exercice\n",
    "def residuel(graphe, flot):\n",
    "    resultat = type(graphe)()\n",
    "    \n",
    "    for u, v, capacite in graphe.arcs():\n",
    "        if flot[(u, v)] < capacite:\n",
    "            resultat.ajouter_arc(u, v, capacite - flot[(u, v)])\n",
    "    \n",
    "        if flot[(u, v)]:\n",
    "            resultat.ajouter_arc(v, u, flot[(u, v)])\n",
    "    \n",
    "    return resultat\n",
    "    \n",
    "# tests -----------------------------------------------------------------------\n",
    "from dictionnaireadjacenceorientepondere import DictionnaireAdjacenceOrientePondere as Graphe\n",
    "\n",
    "# 1er exemple du cours, où 's' est la source et 't' le puits\n",
    "G = Graphe()\n",
    "G.ajouter_arcs([\n",
    "    ('s', 'a', 16), ('s', 'b', 13), ('a', 'c', 12), ('b', 'a', 4 ), \n",
    "    ('b', 'd', 14), ('c', 'b', 9 ), ('c', 't', 20), ('d', 'c', 7 ), \n",
    "    ('d', 't', 4 )\n",
    "])\n",
    "flot = {\n",
    "    ('s', 'a'): 11, ('s', 'b'): 8, ('a', 'c'): 12, ('b', 'a'): 1, \n",
    "    ('b', 'd'): 11, ('c', 'b'): 4, ('c', 't'): 15, ('d', 'c'): 7, \n",
    "    ('d', 't'): 4 \n",
    "}\n",
    "resultat = residuel(G, flot)\n",
    "print(sorted(resultat.arcs()))"
   ]
  },
  {
   "cell_type": "markdown",
   "metadata": {},
   "source": [
    "Résultat attendu:\n",
    "[('a', 'b', 1),\n",
    " ('a', 's', 11),\n",
    " ('b', 'a', 3),\n",
    " ('b', 'c', 4),\n",
    " ('b', 'd', 3),\n",
    " ('b', 's', 8),\n",
    " ('c', 'a', 12),\n",
    " ('c', 'b', 5),\n",
    " ('c', 'd', 7),\n",
    " ('c', 't', 5),\n",
    " ('d', 'b', 11),\n",
    " ('s', 'a', 5),\n",
    " ('s', 'b', 5),\n",
    " ('t', 'c', 15),\n",
    " ('t', 'd', 4)]"
   ]
  },
  {
   "cell_type": "markdown",
   "metadata": {},
   "source": [
    "2. Écrivez une fonction prenant en paramètres un graphe orienté pondéré et un flot maximum, et renvoyant une coupe minimum pour le graphe donné. Le flot est donné sous la forme d'un dictionnaire associant à chaque arc une valeur, et satisfait les propriétés d'un flot que vous ne devez donc pas vérifier. La coupe sera exprimée sous la forme d'un itérable contenant deux itérables de sommets. Votre fonction doit être en $O(|V|+|A|)$. Vous ne devez pas vérifier que le flot est bien maximum."
   ]
  },
  {
   "cell_type": "code",
   "execution_count": 5,
   "metadata": {
    "réponse": true,
    "slideshow": {
     "slide_type": "-"
    }
   },
   "outputs": [
    {
     "name": "stdout",
     "output_type": "stream",
     "text": [
      "[['a', 'b', 'd', 's'], ['c', 't']]\n",
      "True\n"
     ]
    }
   ],
   "source": [
    "# corrigé exercice 1.2\n",
    "def accessibles(graphe, depart, visites=None):\n",
    "    resultat = set()\n",
    "    a_traiter = {depart}  # n'importe quel ordre convient\n",
    "    if visites is None:\n",
    "        visites = {v: False for v in graphe.sommets()}\n",
    "    while a_traiter:\n",
    "        v = a_traiter.pop()\n",
    "        if not visites[v]:\n",
    "            visites[v] = True\n",
    "            resultat.add(v)\n",
    "            for w in graphe.successeurs(v):\n",
    "                if not visites[w]:\n",
    "                    a_traiter.add(w)\n",
    "    \n",
    "    return resultat\n",
    "\n",
    "\n",
    "def coupe_minimum(graphe, flot_max, source, puits):\n",
    "    S = accessibles(residuel(graphe, flot_max), source)\n",
    "    return S, set(graphe.sommets()) - S\n",
    "\n",
    "# tests -----------------------------------------------------------------------\n",
    "from dictionnaireadjacenceorientepondere import DictionnaireAdjacenceOrientePondere as Graphe\n",
    "\n",
    "# 1er exemple du cours\n",
    "G = Graphe()\n",
    "G.ajouter_arcs([\n",
    "    ('s', 'a', 16), ('s', 'b', 13), ('a', 'c', 12), ('b', 'a', 4 ), \n",
    "    ('b', 'd', 14), ('c', 'b', 9 ), ('c', 't', 20), ('d', 'c', 7 ), \n",
    "    ('d', 't', 4 )\n",
    "])\n",
    "flot_max = {\n",
    "    ('s', 'a'): 12, ('s', 'b'): 11, ('a', 'c'): 12, ('b', 'a'): 0, \n",
    "    ('b', 'd'): 11, ('c', 'b'): 0, ('c', 't'): 19, ('d', 'c'): 7, \n",
    "    ('d', 't'): 4 \n",
    "}\n",
    "coupe = coupe_minimum(G, flot_max, 's', 't')\n",
    "print(sorted(map(sorted, coupe)))  # solution possible: [['a', 'b', 'd', 's'], ['c', 't']]\n",
    "print(sum(G.poids_arc(u, v) for u in coupe[0] for v in coupe[1] if G.contient_arc(u, v)) == 23) # résultat attendu: True"
   ]
  },
  {
   "cell_type": "markdown",
   "metadata": {},
   "source": [
    "3. Écrivez une fonction prenant un flot en paramètre, ainsi que la source, et renvoyant sa valeur. Le flot est au même format que pour les questions précédentes, et il ne faut donc pas vérifier sa validité."
   ]
  },
  {
   "cell_type": "code",
   "execution_count": 6,
   "metadata": {},
   "outputs": [
    {
     "name": "stdout",
     "output_type": "stream",
     "text": [
      "23\n"
     ]
    }
   ],
   "source": [
    "# corrigé exercice 1.3\n",
    "def valeur(flot, source):\n",
    "    return sum(flot[(u, v)] for u, v in flot if u == source)\n",
    "\n",
    "# tests -----------------------------------------------------------------------\n",
    "flot = {\n",
    "    ('s', 'a'): 12, ('s', 'b'): 11, ('a', 'c'): 12, ('b', 'a'): 0, \n",
    "    ('b', 'd'): 11, ('c', 'b'): 0, ('c', 't'): 19, ('d', 'c'): 7, \n",
    "    ('d', 't'): 4 \n",
    "}\n",
    "print(valeur(flot, 's'))  # résultat attendu: 23"
   ]
  },
  {
   "cell_type": "markdown",
   "metadata": {},
   "source": [
    "4. Écrivez une fonction qui renvoie la capacité d'une coupe pour le réseau donné. La coupe est donnée sous la forme d'un couple d'ensembles, dont les éléments sont les sommets. Votre algorithme doit être en $O(|V|+|A|)$."
   ]
  },
  {
   "cell_type": "code",
   "execution_count": 7,
   "metadata": {},
   "outputs": [
    {
     "name": "stdout",
     "output_type": "stream",
     "text": [
      "26\n"
     ]
    }
   ],
   "source": [
    "def capacite(reseau, coupe):\n",
    "    return sum(\n",
    "        poids for u, v, poids in reseau.arcs() if u in coupe[0] and v in coupe[1]\n",
    "    )\n",
    "    \n",
    "# tests -----------------------------------------------------------------------\n",
    "from dictionnaireadjacenceorientepondere import DictionnaireAdjacenceOrientePondere as Graphe\n",
    "\n",
    "# 1er exemple du cours\n",
    "G = Graphe()\n",
    "G.ajouter_arcs([\n",
    "    ('s', 'a', 16), ('s', 'b', 13), ('a', 'c', 12), ('b', 'a', 4 ), \n",
    "    ('b', 'd', 14), ('c', 'b', 9 ), ('c', 't', 20), ('d', 'c', 7 ), \n",
    "    ('d', 't', 4 )\n",
    "])\n",
    "coupe = [{'s', 'a', 'b'}, {'c', 'd', 't'}]\n",
    "print(capacite(G, coupe))  # résultat attendu: 26"
   ]
  },
  {
   "cell_type": "markdown",
   "metadata": {},
   "source": [
    "5. Écrivez une fonction permettant de vérifier qu'une bipartition donnée est bien une coupe minimum. Pour ce faire, vous disposez du réseau de départ et d'un flot supposé maximum. Il faut donc vérifier que l'ensemble donné est bien une bipartition, qu'il s'agit d'une coupe, et que sa capacité est minimum. Votre fonction doit être en $O(|V|+|A|)$."
   ]
  },
  {
   "cell_type": "code",
   "execution_count": 11,
   "metadata": {
    "réponse": true
   },
   "outputs": [
    {
     "name": "stdout",
     "output_type": "stream",
     "text": [
      "True\n",
      "False\n",
      "False\n"
     ]
    }
   ],
   "source": [
    "# corrigé exercice 1.5\n",
    "def est_coupe_minimale(bipartition, graphe, source, puits, flot):\n",
    "    # la bipartition est-elle une bipartition?\n",
    "    S, T = bipartition\n",
    "    if set(S).union(T) != set(graphe.sommets()):\n",
    "        return False\n",
    "    # la bipartition est-elle une coupe? source à \"gauche\", puits à \"droite\"\n",
    "    if source not in S or puits not in T:\n",
    "        return False\n",
    "    # est-elle bien minimale? ssi sa capacité égale la valeur du flot\n",
    "    valeur_flot = sum(flot[(source, v)] for v in graphe.successeurs(source))\n",
    "    capacite_coupe = sum(\n",
    "        graphe.poids_arc(u, v) for u in S for v in T\n",
    "        if graphe.contient_arc(u, v)\n",
    "    )\n",
    "    return capacite_coupe == valeur_flot\n",
    "    \n",
    "\n",
    "# tests -----------------------------------------------------------------------\n",
    "from dictionnaireadjacenceorientepondere import DictionnaireAdjacenceOrientePondere as Graphe\n",
    "\n",
    "# 1er exemple du cours\n",
    "G = Graphe()\n",
    "G.ajouter_arcs([\n",
    "    ('s', 'a', 16), ('s', 'b', 13), ('a', 'c', 12), ('b', 'a', 4 ), \n",
    "    ('b', 'd', 14), ('c', 'b', 9 ), ('c', 't', 20), ('d', 'c', 7 ), \n",
    "    ('d', 't', 4 )\n",
    "])\n",
    "flot_max = {\n",
    "    ('s', 'a'): 12, ('s', 'b'): 11, ('a', 'c'): 12, ('b', 'a'): 0, \n",
    "    ('b', 'd'): 11, ('c', 'b'): 0, ('c', 't'): 19, ('d', 'c'): 7, \n",
    "    ('d', 't'): 4 \n",
    "}\n",
    "coupe = coupe_minimum(G, flot_max, 's', 't')\n",
    "print(est_coupe_minimale(coupe, G, 's', 't', flot_max))  # résultat attendu: True\n",
    "print(est_coupe_minimale([{'a'}, {'b'}], G, 's', 't', flot_max))  # résultat attendu: False (pas une coupe)\n",
    "print(est_coupe_minimale([{'s', 'a'}, {'b', 'c', 'd', 't'}], G, 's', 't', flot_max))  # résultat attendu: False (coupe pas minimale)"
   ]
  },
  {
   "cell_type": "markdown",
   "metadata": {},
   "source": [
    "## Exercice 2: composantes fortement connexes\n",
    "\n",
    "1. Écrivez une fonction renvoyant les sommets d'un graphe orienté non pondéré dans l'ordre où le parcours en profondeur **termine** leur exploration. Votre fonction doit être en $O(|V|+|A|)$.\n"
   ]
  },
  {
   "cell_type": "code",
   "execution_count": 3,
   "metadata": {},
   "outputs": [
    {
     "name": "stdout",
     "output_type": "stream",
     "text": [
      "['2', '1', '0', '4', '3', '7', '6', '5']\n"
     ]
    }
   ],
   "source": [
    "def parcours_profondeur_date(graphe):\n",
    "    \"\"\"Empile les sommets à la fin de leur exploration.\"\"\"\n",
    "    resultat = list()\n",
    "    visites = {v: False for v in graphe.sommets()}\n",
    "    def profondeur_rec(sommet):\n",
    "        if not visites[sommet]:\n",
    "            visites[sommet] = True\n",
    "            for suivant in graphe.successeurs(sommet):\n",
    "                profondeur_rec(suivant)\n",
    "            resultat.append(sommet)\n",
    "            \n",
    "    for v in graphe.sommets():\n",
    "        profondeur_rec(v)\n",
    "        \n",
    "    return resultat\n",
    "\n",
    "\n",
    "# tests -----------------------------------------------------------------------\n",
    "from dictionnaireadjacenceoriente import DictionnaireAdjacenceOriente as Graphe\n",
    "\n",
    "G = Graphe()\n",
    "G.ajouter_arcs([\"01\", \"02\", \"12\", \"34\", \"56\", \"57\"])\n",
    "print(parcours_profondeur_date(G))  # résultat attendu: ['2', '1', '0', '4', '3', '7', '6', '5']\n"
   ]
  },
  {
   "cell_type": "markdown",
   "metadata": {},
   "source": [
    "2. Écrivez une fonction renvoyant un itérable contenant les composantes fortement connexes d'un graphe orienté. Chaque composante est représentée par les sommets qu'elle contient. La fonction renverra donc un itérable d'itérables. Votre fonction doit être en $O(|V|+|A|)$.\n"
   ]
  },
  {
   "cell_type": "code",
   "execution_count": 6,
   "metadata": {},
   "outputs": [
    {
     "data": {
      "text/plain": [
       "[['0', '1', '4'], ['2', '3'], ['5', '6'], ['7']]"
      ]
     },
     "execution_count": 6,
     "metadata": {},
     "output_type": "execute_result"
    }
   ],
   "source": [
    "def renverser(graphe):\n",
    "    \"\"\"Renvoie le graphe renversé.\"\"\"\n",
    "    envers = type(graphe)()\n",
    "    envers.ajouter_arcs((v, u) for u, v in graphe.arcs())\n",
    "    return envers\n",
    "\n",
    "\n",
    "def cfc(graphe):\n",
    "    # passe 1: calculer l'ordre\n",
    "    ordre_parcours = parcours_profondeur_date(graphe)[::-1]\n",
    "    \n",
    "    # passe 2 sur le graphe renversé\n",
    "    cfc = list()\n",
    "    envers = renverser(graphe)\n",
    "    visites = {v: False for v in graphe.sommets()}\n",
    "    for v in ordre_parcours:\n",
    "        if not visites[v]:\n",
    "            cfc.append(accessibles(envers, v, visites))\n",
    "    return cfc\n",
    "\n",
    "# tests -----------------------------------------------------------------------\n",
    "from dictionnaireadjacenceoriente import DictionnaireAdjacenceOriente as Graphe\n",
    "\n",
    "# exemple du cours\n",
    "G = Graphe()\n",
    "G.ajouter_arcs([\"01\", \"12\", \"14\", \"15\", \"23\", \"26\", \"32\", \"37\", \"40\", \"45\", \"56\", \"65\", \"67\"])\n",
    "print(sorted(map(sorted, cfc(G)))) # résultat attendu: [['0', '1', '4'], ['2', '3'], ['5', '6'], ['7']]"
   ]
  },
  {
   "cell_type": "markdown",
   "metadata": {},
   "source": [
    "3. Écrivez une fonction prenant en paramètres un graphe orienté $G$ et ses composantes fortement connexes et renvoyant le graphe $H$ des composantes fortement connexes. Chaque composante fortement connexe de $G$ sera représentée dans $H$ par le sommet le plus petit qu'elle contient. Votre fonction doit être en $O(|V|+|A|)$."
   ]
  },
  {
   "cell_type": "code",
   "execution_count": 14,
   "metadata": {},
   "outputs": [
    {
     "name": "stdout",
     "output_type": "stream",
     "text": [
      "['0', '2', '5', '7']\n",
      "[('0', '2'), ('0', '5'), ('2', '5'), ('2', '7'), ('5', '7')]\n"
     ]
    }
   ],
   "source": [
    "def graphe_cfc(graphe, composantes):\n",
    "    resultat = type(graphe)()\n",
    "    # noter pour chaque sommet la cfc à laquelle il appartient\n",
    "    partition = dict()\n",
    "    for comp in composantes:\n",
    "        identifiant = min(comp)\n",
    "        for sommet in comp:\n",
    "            partition[sommet] = identifiant\n",
    "            \n",
    "    # pour chaque arc (u, v) du graphe, rajouter au résultat l'arc (partition[u], partition[v])\n",
    "    for u, v in graphe.arcs():\n",
    "        if partition[u] != partition[v]:\n",
    "            resultat.ajouter_arc(partition[u], partition[v])\n",
    "        \n",
    "    return resultat\n",
    "\n",
    "# tests -----------------------------------------------------------------------\n",
    "from dictionnaireadjacenceoriente import DictionnaireAdjacenceOriente as Graphe\n",
    "\n",
    "# exemple du cours\n",
    "G = Graphe()\n",
    "G.ajouter_arcs([\"01\", \"12\", \"14\", \"15\", \"23\", \"26\", \"32\", \"37\", \"40\", \"45\", \"56\", \"65\", \"67\"])\n",
    "H = graphe_cfc(G, cfc(G))\n",
    "print(sorted(H.sommets()))  # résultat attendu: ['0', '2', '5', '7']\n",
    "print(sorted(H.arcs()))  # résultat attendu: [('0', '2'), ('0', '5'), ('2', '5'), ('2', '7'), ('5', '7')]"
   ]
  },
  {
   "cell_type": "markdown",
   "metadata": {},
   "source": [
    "## Exercice 3: plus courts chemins\n",
    "\n",
    "1. Écrivez une fonction prenant en paramètres un graphe orienté pondéré dont les poids de tous les arcs sont 1, et un sommet de départ, et renvoyant l'arbre des plus courts chemins issus de ce sommet sous la forme d'un graphe orienté pondéré du même type que l'entrée. Votre fonction doit être en $O(|V|+|A|)$."
   ]
  },
  {
   "cell_type": "code",
   "execution_count": 18,
   "metadata": {},
   "outputs": [
    {
     "name": "stdout",
     "output_type": "stream",
     "text": [
      "[(0, 1, 1), (0, 2, 1)]\n",
      "[]\n"
     ]
    }
   ],
   "source": [
    "from collections import deque\n",
    "\n",
    "def arbre_pcc(graphe, depart):\n",
    "    resultat = type(graphe)()\n",
    "    resultat.ajouter_sommet(depart)\n",
    "    a_traiter = deque()\n",
    "    a_traiter.extend((depart, w) for w in graphe.successeurs(depart))\n",
    "    while a_traiter:\n",
    "        v, w = a_traiter.popleft()\n",
    "        if resultat.contient_sommet(v) and not resultat.contient_sommet(w):\n",
    "            resultat.ajouter_arc(v, w, 1)\n",
    "            for x in graphe.successeurs(w):\n",
    "                if not resultat.contient_sommet(x):\n",
    "                    a_traiter.append((w, x))\n",
    "    \n",
    "    return resultat\n",
    "\n",
    "# tests -----------------------------------------------------------------------\n",
    "from dictionnaireadjacenceorientepondere import DictionnaireAdjacenceOrientePondere as Graphe\n",
    "\n",
    "G = Graphe()\n",
    "G.ajouter_arcs([\n",
    "    (0, 1, 1), (0, 2, 1), (1, 2, 1)\n",
    "])\n",
    "print(sorted(arbre_pcc(G, 0).arcs()))  # résultat attendu: [(0, 1, 1), (0, 2, 1)]\n",
    "print(sorted(arbre_pcc(G, 2).arcs()))  # résultat attendu: []"
   ]
  },
  {
   "cell_type": "markdown",
   "metadata": {},
   "source": [
    "2. Écrivez une fonction prenant en paramètres un graphe orienté pondéré dont les poids de tous les arcs sont 1 ou à 2, et un sommet de départ, et renvoyant l'arbre des plus courts chemins issus de ce sommet sous la forme d'un graphe orienté pondéré du même type que l'entrée. Votre fonction doit être en $O(|V|+|A|)$."
   ]
  },
  {
   "cell_type": "code",
   "execution_count": 33,
   "metadata": {},
   "outputs": [
    {
     "name": "stdout",
     "output_type": "stream",
     "text": [
      "[(0, 1, 1), (1, 2, 1), (1, 3, 1)]\n",
      "[]\n"
     ]
    }
   ],
   "source": [
    "def arbre_pcc_1_ou_2(graphe, depart):\n",
    "    # subdiviser les arcs de poids 2:\n",
    "    prochain_indice = max(graphe.sommets()) + 1\n",
    "    nouveaux_sommets = set()\n",
    "    for u, v, poids in graphe.arcs():\n",
    "        if poids == 2:\n",
    "            graphe.retirer_arc(u, v)\n",
    "            graphe.ajouter_arcs([(u, prochain_indice, 1), (prochain_indice, v, 1)])\n",
    "            nouveaux_sommets.add(prochain_indice)\n",
    "            prochain_indice += 1\n",
    "            \n",
    "    # utiliser l'algo précédent\n",
    "    resultat = arbre_pcc(graphe, depart)\n",
    "    \n",
    "    # annuler les subdivisions dans le graphe de départ\n",
    "    for x in nouveaux_sommets:\n",
    "        u = next(iter(graphe.predecesseurs(x)))  # forcément unique\n",
    "        v = next(iter(graphe.successeurs(x)))    # forcément unique\n",
    "        graphe.ajouter_arc(u, v, 2)\n",
    "        graphe.retirer_sommet(x)\n",
    "\n",
    "    # annuler les subdivisions dans l'arbre; attention, il y a deux pièges:\n",
    "    # 1) tous les nouveaux sommets n'appartiennent pas forcément à l'arbre\n",
    "    # 2) ceux qui s'y trouvent peuvent ne pas avoir de successeur\n",
    "    for x in nouveaux_sommets:\n",
    "        if resultat.contient_sommet(x):\n",
    "            u = next(iter(resultat.predecesseurs(x)))  # forcément unique\n",
    "            if resultat.successeurs(x):  # n'existe pas nécessairement\n",
    "                v = next(iter(resultat.successeurs(x)))    # mais forcément unique s'il existe\n",
    "                resultat.ajouter_arc(u, v, 2)\n",
    "            resultat.retirer_sommet(x)\n",
    "    \n",
    "    return resultat\n",
    "\n",
    "\n",
    "# tests -----------------------------------------------------------------------\n",
    "from dictionnaireadjacenceorientepondere import DictionnaireAdjacenceOrientePondere as Graphe\n",
    "\n",
    "G = Graphe()\n",
    "G.ajouter_arcs([\n",
    "    (0, 1, 1), (0, 2, 2), (1, 2, 1), (1, 3, 1)\n",
    "])\n",
    "print(sorted(arbre_pcc_1_ou_2(G, 0).arcs()))  # résultat attendu: [(0, 1, 1), (1, 2, 1), (1, 3, 1)]\n",
    "print(sorted(arbre_pcc_1_ou_2(G, 2).arcs()))  # résultat attendu: []"
   ]
  }
 ],
 "metadata": {
  "celltoolbar": "Edit Metadata",
  "kernelspec": {
   "display_name": "Python 3 (ipykernel)",
   "language": "python",
   "name": "python3"
  },
  "language_info": {
   "codemirror_mode": {
    "name": "ipython",
    "version": 3
   },
   "file_extension": ".py",
   "mimetype": "text/x-python",
   "name": "python",
   "nbconvert_exporter": "python",
   "pygments_lexer": "ipython3",
   "version": "3.11.2"
  }
 },
 "nbformat": 4,
 "nbformat_minor": 4
}
