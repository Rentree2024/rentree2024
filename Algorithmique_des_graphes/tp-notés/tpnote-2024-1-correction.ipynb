{
 "cells": [
  {
   "cell_type": "markdown",
   "metadata": {},
   "source": [
    "# TP noté L3 Algorithmique des graphes 2023-2024\n",
    "# Durée: 2 heures\n",
    "\n",
    "## Vous disposez uniquement des documents suivants :\n",
    "- les transparents de cours en format pdf\n",
    "- les trois fichiers `dictionnaireadjacence.py`, `dictionnaireadjacencepondere.py`, et `unionfind.py`\n",
    "- un accès à la documentation Python\n",
    "- ce sujet du TP noté sous forme de Notebook Python (extension `.ipynb`)\n",
    "\n",
    "Aucun autre document ou support n'est autorisé.\n",
    "\n",
    "## Mettez tous vos fichiers et ce Notebook Python dans le répertoire EXAM\n",
    "## Remplissez la première cellule avec vos noms et prénoms\n",
    "## Indiquez si vous avez un tiers temps. Si oui, <font style=\"background-color:orange\">TODO: supprimer des sous-questions? lesquelles?</font>\n",
    "## Répondez aux questions dans les cellules indiquées. \n",
    "\n",
    "Le code Python devra utiliser les classes `DictionnaireAdjacence` et `DictionnaireAdjacencePondere`. Vos réponses devront fonctionner quel que soit le type des identifiants utilisés pour les sommets.\n",
    "\n",
    "<font color=red>**Attention :**</font> ne modifiez pas les fichiers `dictionnaireadjacence.py` et `dictionnaireadjacencepondere.py`. Ils seront réinitialisés lors de la correction. \n"
   ]
  },
  {
   "cell_type": "code",
   "execution_count": 1,
   "metadata": {},
   "outputs": [
    {
     "ename": "SyntaxError",
     "evalue": "invalid syntax (3467146745.py, line 1)",
     "output_type": "error",
     "traceback": [
      "\u001b[0;36m  Cell \u001b[0;32mIn [1], line 1\u001b[0;36m\u001b[0m\n\u001b[0;31m    Cadre pour la notation :\u001b[0m\n\u001b[0m          ^\u001b[0m\n\u001b[0;31mSyntaxError\u001b[0m\u001b[0;31m:\u001b[0m invalid syntax\n"
     ]
    }
   ],
   "source": [
    "Cadre pour la notation :\n",
    "Note =\n",
    "Exercice 1 = \n",
    "Exercice 2 =\n",
    "Exerice 3 =\n",
    "Exerice 4 ="
   ]
  },
  {
   "cell_type": "raw",
   "metadata": {
    "coordonnées": true
   },
   "source": [
    "Nom = nom_test\n",
    "Prenom = prenom_test\n",
    "Tiers temps (oui/non) =\n",
    "Si oui TODO"
   ]
  },
  {
   "cell_type": "markdown",
   "metadata": {},
   "source": [
    "## Exercice 1: Parcours\n",
    "\n",
    "1. Écrivez une fonction prenant en paramètre un graphe non orienté et un sommet de ce graphe, et renvoyant la liste des sommets dans l'ordre où le parcours en profondeur les traite au départ de ce sommet. "
   ]
  },
  {
   "cell_type": "code",
   "execution_count": 1,
   "metadata": {
    "réponse": true,
    "slideshow": {
     "slide_type": "-"
    }
   },
   "outputs": [
    {
     "data": {
      "text/plain": [
       "['a', 'b', 'e', 'h', 'f', 'c', 'g', 'd', 'i']"
      ]
     },
     "execution_count": 1,
     "metadata": {},
     "output_type": "execute_result"
    }
   ],
   "source": [
    "# corrigé exercice 1.1\n",
    "def parcours_profondeur(graphe, depart):\n",
    "    resultat = list()\n",
    "    visites = {v: False for v in graphe.sommets()}\n",
    "    a_traiter = [depart]\n",
    "    while a_traiter:\n",
    "        v = a_traiter.pop()\n",
    "        if not visites[v]:\n",
    "            resultat.append(v)\n",
    "            visites[v] = True\n",
    "            for u in sorted(graphe.voisins(v), reverse=True):\n",
    "                if not visites[u]:\n",
    "                    a_traiter.append(u)\n",
    "    \n",
    "    return resultat\n",
    "\n",
    "# tests -----------------------------------------------------------------------\n",
    "from dictionnaireadjacence import DictionnaireAdjacence as Graphe\n",
    "\n",
    "# l'exemple des slides du cours\n",
    "G = Graphe()\n",
    "G.ajouter_aretes([('a', 'b'), ('a', 'd'), ('a', 'g'), ('b', 'e'), ('b', 'g'), ('c', 'f'), ('d', 'g'), ('d', 'i'), ('e', 'h'), ('f', 'g'), ('f', 'h')])\n",
    "parcours_profondeur(G, 'a')  # affichage attendu: ['a', 'b', 'e', 'h', 'f', 'c', 'g', 'd', 'i']"
   ]
  },
  {
   "cell_type": "markdown",
   "metadata": {},
   "source": [
    "2. Écrivez une fonction prenant en paramètre un graphe non orienté et renvoyant le nombre de composantes connexes de ce graphe."
   ]
  },
  {
   "cell_type": "code",
   "execution_count": 2,
   "metadata": {
    "réponse": true
   },
   "outputs": [
    {
     "data": {
      "text/plain": [
       "1"
      ]
     },
     "execution_count": 2,
     "metadata": {},
     "output_type": "execute_result"
    }
   ],
   "source": [
    "# corrigé exercice 1.2\n",
    "def nombre_composantes_connexes(graphe):\n",
    "    visites = {v: False for v in graphe.sommets()}\n",
    "    cc = 0\n",
    "    for v in graphe.sommets():\n",
    "        if not visites[v]:\n",
    "            cc += 1\n",
    "            for u in parcours_profondeur(graphe, v):\n",
    "                visites[u] = True\n",
    "    return cc\n",
    "            \n",
    "# tests -----------------------------------------------------------------------\n",
    "from dictionnaireadjacence import DictionnaireAdjacence as Graphe\n",
    "\n",
    "# l'exemple des slides du cours\n",
    "G = Graphe()\n",
    "G.ajouter_aretes([('a', 'b'), ('a', 'd'), ('a', 'g'), ('b', 'e'), ('b', 'g'), ('c', 'f'), ('d', 'g'), ('d', 'i'), ('e', 'h'), ('f', 'g'), ('f', 'h')])\n",
    "nombre_composantes_connexes(G)  # résultat attendu: 1"
   ]
  },
  {
   "cell_type": "markdown",
   "metadata": {},
   "source": [
    "3. Un **pont** est une arête dont la suppression augmente le nombre de composantes connexes. Écrivez une fonction prenant en paramètres un graphe non orienté et une arête de ce graphe, et renvoyant `True` si cette arête est un pont, et `False` sinon. Donnez et justifiez la complexité de votre fonction."
   ]
  },
  {
   "cell_type": "code",
   "execution_count": 3,
   "metadata": {
    "réponse": true
   },
   "outputs": [
    {
     "name": "stdout",
     "output_type": "stream",
     "text": [
      "Test des arêtes de G:\n",
      "('a', 'b') ?= pont: False\n",
      "('a', 'd') ?= pont: False\n",
      "('a', 'g') ?= pont: False\n",
      "('b', 'e') ?= pont: False\n",
      "('b', 'g') ?= pont: False\n",
      "('c', 'f') ?= pont: True\n",
      "('d', 'g') ?= pont: False\n",
      "('d', 'i') ?= pont: True\n",
      "('e', 'h') ?= pont: False\n",
      "('f', 'g') ?= pont: False\n",
      "('f', 'h') ?= pont: False\n"
     ]
    }
   ],
   "source": [
    "# corrigé exercice 1.3\n",
    "def est_pont(graphe, arete):\n",
    "    \"\"\"Algorithme naïf: on retire l'arête, et l'on vérifie si une de ses extrémités reste \n",
    "    accessible au départ de l'autre. La complexité est celle du parcours, soit O(|V|+|E|).\"\"\"\n",
    "    u, v = arete\n",
    "    graphe.retirer_arete(u, v)\n",
    "    resultat = v not in parcours_profondeur(graphe, u)\n",
    "    graphe.ajouter_arete(u, v)\n",
    "    return resultat\n",
    "\n",
    "# tests -----------------------------------------------------------------------\n",
    "from dictionnaireadjacence import DictionnaireAdjacence as Graphe\n",
    "\n",
    "# l'exemple des slides du cours\n",
    "G = Graphe()\n",
    "G.ajouter_aretes([('a', 'b'), ('a', 'd'), ('a', 'g'), ('b', 'e'), ('b', 'g'), ('c', 'f'), ('d', 'g'), ('d', 'i'), ('e', 'h'), ('f', 'g'), ('f', 'h')])\n",
    "\n",
    "print(\"Test des arêtes de G:\")  # résultat attendu: seules {'c', 'f'} et {'d', 'i'} sont des ponts\n",
    "for u, v in sorted(G.aretes()):\n",
    "    print(f'{(u, v)} ?= pont: {est_pont(G, (u, v))}')"
   ]
  },
  {
   "cell_type": "markdown",
   "metadata": {},
   "source": [
    "4. Écrivez une fonction prenant en paramètre un graphe non orienté et renvoyant `True` si ce graphe est un arbre, et `False` sinon.    "
   ]
  },
  {
   "cell_type": "code",
   "execution_count": 4,
   "metadata": {
    "réponse": true
   },
   "outputs": [
    {
     "data": {
      "text/plain": [
       "False"
      ]
     },
     "execution_count": 4,
     "metadata": {},
     "output_type": "execute_result"
    }
   ],
   "source": [
    "# corrigé exercice 1.4\n",
    "def est_arbre(graphe):\n",
    "    \"\"\"Un arbre est un graphe connexe acyclique.\"\"\"\n",
    "    # le graphe est-il connexe?\n",
    "    if set(parcours_profondeur(graphe, next(iter(graphe.sommets())))) != set(graphe.sommets()):\n",
    "        return False\n",
    "    # le graphe est-il également acyclique?\n",
    "    return graphe.nombre_aretes() == graphe.nombre_sommets() - 1\n",
    "\n",
    "# tests -----------------------------------------------------------------------\n",
    "from dictionnaireadjacence import DictionnaireAdjacence as Graphe\n",
    "\n",
    "# l'exemple des slides du cours\n",
    "G = Graphe()\n",
    "G.ajouter_aretes([('a', 'b'), ('a', 'd'), ('a', 'g'), ('b', 'e'), ('b', 'g'), ('c', 'f'), ('d', 'g'), ('d', 'i'), ('e', 'h'), ('f', 'g'), ('f', 'h')])\n",
    "est_arbre(G)  # résultat attendu: False"
   ]
  },
  {
   "cell_type": "markdown",
   "metadata": {},
   "source": [
    "## Exercice 2: Triangles\n",
    "\n",
    "1. Écrivez une fonction en $O(|V|^3)$ renvoyant un cycle de longueur 3 dans un graphe non orienté donné sous la forme d'un triplet de sommets. Si le graphe ne contient pas de tel cycle, la fonction renverra `None`."
   ]
  },
  {
   "cell_type": "code",
   "execution_count": 5,
   "metadata": {
    "réponse": true
   },
   "outputs": [
    {
     "data": {
      "text/plain": [
       "('d', 'a', 'g')"
      ]
     },
     "execution_count": 5,
     "metadata": {},
     "output_type": "execute_result"
    }
   ],
   "source": [
    "# corrigé exercice 2.1\n",
    "from itertools import combinations\n",
    "\n",
    "def triangles_1(graphe):\n",
    "    \"\"\"Tester tous les triplets de sommets possibles.\"\"\"\n",
    "    for u, v, w in combinations(graphe.sommets(), 3):\n",
    "        if graphe.contient_arete(u, v) and graphe.contient_arete(u, w) and graphe.contient_arete(v, w):\n",
    "            return u, v, w\n",
    "        \n",
    "# tests -----------------------------------------------------------------------\n",
    "from dictionnaireadjacence import DictionnaireAdjacence as Graphe\n",
    "\n",
    "# l'exemple des slides du cours\n",
    "G = Graphe()\n",
    "G.ajouter_aretes([('a', 'b'), ('a', 'd'), ('a', 'g'), ('b', 'e'), ('b', 'g'), ('c', 'f'), ('d', 'g'), ('d', 'i'), ('e', 'h'), ('f', 'g'), ('f', 'h')])\n",
    "triangles_1(G)  # résultats valides: ('a', 'b', 'g') ou ('a', 'd', 'g') (dans n'importe quel ordre)"
   ]
  },
  {
   "cell_type": "markdown",
   "metadata": {},
   "source": [
    "2. Écrivez une autre fonction effectuant la même tâche, mais cette fois-ci avec une complexité en $O(|V||E|)$.    "
   ]
  },
  {
   "cell_type": "code",
   "execution_count": 6,
   "metadata": {
    "réponse": true
   },
   "outputs": [
    {
     "data": {
      "text/plain": [
       "(0, 1, 6)"
      ]
     },
     "execution_count": 6,
     "metadata": {},
     "output_type": "execute_result"
    }
   ],
   "source": [
    "# corrigé exercice 2.2\n",
    "def triangles_2(graphe):\n",
    "    \"\"\"Parcourir toutes les arêtes, et chercher un voisin commun.\"\"\"\n",
    "    for u, v in graphe.aretes():                 # O(|E|)\n",
    "        # chercher un voisin commun w de u et v\n",
    "        for w in graphe.sommets():               # O(|V|)\n",
    "            if graphe.contient_arete(u, w) and graphe.contient_arete(v, w):  # O(1)\n",
    "                return u, v, w\n",
    "\n",
    "# tests -----------------------------------------------------------------------\n",
    "from dictionnaireadjacence import DictionnaireAdjacence as Graphe\n",
    "\n",
    "# l'exemple des slides du cours\n",
    "G = Graphe()\n",
    "G.ajouter_aretes([(0, 1), (0, 3), (0, 6), (1, 4), (1, 6), (2, 5), (3, 6), (3, 8), (4, 7), (5, 6), (5, 7)])\n",
    "triangles_2(G)  # résultats valides: (0, 1, 6) ou (0, 3, 6) (dans n'importe quel ordre)"
   ]
  },
  {
   "cell_type": "markdown",
   "metadata": {},
   "source": [
    "\n",
    "## Exercice 3: FCPM\n",
    "\n",
    "1. Écrivez une fonction implémentant l'algorithme de Kruskal. Elle recevra en paramètre un graphe non orienté pondéré, pas nécessairement connexe, et renverra une forêt du même type."
   ]
  },
  {
   "cell_type": "code",
   "execution_count": 3,
   "metadata": {
    "réponse": true
   },
   "outputs": [
    {
     "data": {
      "text/plain": [
       "[('a', 'b', 1), ('a', 'c', 2), ('b', 'd', 3)]"
      ]
     },
     "execution_count": 3,
     "metadata": {},
     "output_type": "execute_result"
    }
   ],
   "source": [
    "# corrigé exercice 3.1\n",
    "from unionfind import UnionFind\n",
    "\n",
    "def kruskal(graphe):\n",
    "    resultat = type(graphe)()\n",
    "    partition = UnionFind(graphe.sommets())\n",
    "\n",
    "    # traitement des arêtes par ordre croissant de poids\n",
    "    for u, v, poids in sorted(graphe.aretes(), key=lambda elem: elem[2]):\n",
    "        if partition.find(u) != partition.find(v):\n",
    "            resultat.ajouter_arete(u, v, poids)\n",
    "            partition.union(u, v)\n",
    "\n",
    "    return resultat\n",
    "\n",
    "# tests -----------------------------------------------------------------------\n",
    "from dictionnaireadjacencepondere import DictionnaireAdjacencePondere as Graphe\n",
    "\n",
    "# l'exemple des slides du cours\n",
    "G = Graphe()\n",
    "G.ajouter_aretes([('a', 'b', 1), ('a', 'c', 2), ('b', 'd', 3), ('b', 'c', 4), ('c', 'd', 5)])\n",
    "sorted(kruskal(G).aretes())  # résultat attendu: [('a', 'b', 1), ('a', 'c', 2), ('b', 'd', 3)]"
   ]
  },
  {
   "cell_type": "markdown",
   "metadata": {},
   "source": [
    "2. Écrivez une seconde fonction implémentant une version améliorée de l'algorithme de Kruskal, qui devra s'exécuter en $O(|E|+$ poids_max$)$ dans le cas où les poids des arêtes sont des entiers positifs bornés par une certaine constante `poids_max` (inconnue *a priori*)."
   ]
  },
  {
   "cell_type": "code",
   "execution_count": 8,
   "metadata": {
    "réponse": true
   },
   "outputs": [
    {
     "data": {
      "text/plain": [
       "[('a', 'b', 1), ('a', 'c', 2), ('b', 'd', 3)]"
      ]
     },
     "execution_count": 8,
     "metadata": {},
     "output_type": "execute_result"
    }
   ],
   "source": [
    "# corrigé exercice 3.2\n",
    "from unionfind import UnionFind\n",
    "\n",
    "def tri_enumeration(tableau):\n",
    "    \"\"\"Renvoie une copie du tableau triée par énumération. Les éléments du tableau sont des arêtes \n",
    "    représentées par des triplets contenant le poids en dernière position.\"\"\"   \n",
    "    # créer un paquet par valeur de poids possible\n",
    "    poids_max = max(triplet[-1] for triplet in tableau)\n",
    "    paquets = [set() for _ in range(poids_max + 1)]\n",
    "    \n",
    "    # insérer chaque arête dans le bon paquet\n",
    "    for triplet in tableau:\n",
    "        paquets[triplet[-1]].add(triplet)\n",
    "        \n",
    "    # renvoyer les paquets non vides\n",
    "    resultat = list()\n",
    "    for sac in paquets:\n",
    "        resultat.extend(sac)\n",
    "    \n",
    "    return resultat\n",
    "    \n",
    "\n",
    "def kruskal_poids_naturels(graphe):\n",
    "    \"\"\"Version optimisée de Kruskal quand les poids des arêtes sont naturels. Il suffit de trier les arêtes par\n",
    "    énumération.\"\"\"\n",
    "    resultat = type(graphe)()\n",
    "    partition = UnionFind(graphe.sommets())\n",
    "\n",
    "    # traitement des arêtes par ordre croissant de poids\n",
    "    for u, v, poids in tri_enumeration(graphe.aretes()):\n",
    "        if partition.find(u) != partition.find(v):\n",
    "            resultat.ajouter_arete(u, v, poids)\n",
    "            partition.union(u, v)\n",
    "\n",
    "    return resultat\n",
    "\n",
    "# tests -----------------------------------------------------------------------\n",
    "from dictionnaireadjacencepondere import DictionnaireAdjacencePondere as Graphe\n",
    "\n",
    "# l'exemple des slides du cours\n",
    "G = Graphe()\n",
    "G.ajouter_aretes([('a', 'b', 1), ('a', 'c', 2), ('b', 'd', 3), ('b', 'c', 4), ('c', 'd', 5)])\n",
    "sorted(kruskal_poids_naturels(G).aretes())  # résultat attendu: [(0, 1, 1), (0, 2, 2), (1, 3, 3)]"
   ]
  }
 ],
 "metadata": {
  "celltoolbar": "Edit Metadata",
  "kernelspec": {
   "display_name": "Python 3 (ipykernel)",
   "language": "python",
   "name": "python3"
  },
  "language_info": {
   "codemirror_mode": {
    "name": "ipython",
    "version": 3
   },
   "file_extension": ".py",
   "mimetype": "text/x-python",
   "name": "python",
   "nbconvert_exporter": "python",
   "pygments_lexer": "ipython3",
   "version": "3.11.2"
  }
 },
 "nbformat": 4,
 "nbformat_minor": 4
}
